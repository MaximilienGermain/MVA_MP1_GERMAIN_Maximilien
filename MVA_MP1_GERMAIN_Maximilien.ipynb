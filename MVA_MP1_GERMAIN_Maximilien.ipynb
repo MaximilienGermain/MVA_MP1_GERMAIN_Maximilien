{
  "nbformat": 4,
  "nbformat_minor": 0,
  "metadata": {
    "colab": {
      "name": "MVA_MP1_GERMAIN_Maximilien.ipynb",
      "version": "0.3.2",
      "provenance": [],
      "collapsed_sections": []
    },
    "kernelspec": {
      "name": "python3",
      "display_name": "Python 3"
    }
  },
  "cells": [
    {
      "metadata": {
        "id": "YfcZHhXmBk7B",
        "colab_type": "code",
        "colab": {}
      },
      "cell_type": "code",
      "source": [
        "import matplotlib.pyplot as plt\n",
        "%matplotlib inline\n",
        "import numpy as np\n",
        "import matplotlib.patches as patches\n",
        "from keras.models import Sequential\n",
        "from keras.models import Model\n",
        "from keras.layers import Dense, Activation, Conv2D, MaxPooling2D, Flatten, Input, UpSampling2D, concatenate, BatchNormalization, Dropout\n",
        "from keras.optimizers import SGD,Adam\n",
        "from keras.utils import np_utils\n",
        "from keras import regularizers\n",
        "import tensorflow as tf "
      ],
      "execution_count": 0,
      "outputs": []
    },
    {
      "metadata": {
        "id": "0MMoNKDRBh5h",
        "colab_type": "code",
        "outputId": "885fdfbe-4b11-4b72-fc99-9516ce301efd",
        "colab": {
          "base_uri": "https://localhost:8080/",
          "height": 770
        }
      },
      "cell_type": "code",
      "source": [
        "# On some implementations of matplotlib, you may need to change this value\n",
        "IMAGE_SIZE = 72\n",
        "\n",
        "def generate_a_drawing(figsize, U, V, noise=0.0):\n",
        "    fig = plt.figure(figsize=(figsize,figsize))\n",
        "    ax = plt.subplot(111)\n",
        "    plt.axis('Off')\n",
        "    ax.set_xlim(0,figsize)\n",
        "    ax.set_ylim(0,figsize)\n",
        "    ax.fill(U, V, \"k\")\n",
        "    fig.canvas.draw()\n",
        "    imdata = np.frombuffer(fig.canvas.tostring_rgb(), dtype=np.uint8)[::3].astype(np.float32)\n",
        "    imdata = imdata + noise * np.random.random(imdata.size)\n",
        "    plt.close(fig)\n",
        "    return imdata\n",
        "\n",
        "def generate_a_rectangle(noise=0.0, free_location=False):\n",
        "    figsize = 1.0    \n",
        "    U = np.zeros(4)\n",
        "    V = np.zeros(4)\n",
        "    if free_location:\n",
        "        corners = np.random.random(4)\n",
        "        top = max(corners[0], corners[1])\n",
        "        bottom = min(corners[0], corners[1])\n",
        "        left = min(corners[2], corners[3])\n",
        "        right = max(corners[2], corners[3])\n",
        "    else:\n",
        "        side = (0.3 + 0.7 * np.random.random()) * figsize\n",
        "        top = figsize/2 + side/2\n",
        "        bottom = figsize/2 - side/2\n",
        "        left = bottom\n",
        "        right = top\n",
        "    U[0] = U[1] = top\n",
        "    U[2] = U[3] = bottom\n",
        "    V[0] = V[3] = left\n",
        "    V[1] = V[2] = right\n",
        "    return generate_a_drawing(figsize, U, V, noise)\n",
        "\n",
        "\n",
        "def generate_a_disk(noise=0.0, free_location=False):\n",
        "    figsize = 1.0\n",
        "    if free_location:\n",
        "        center = np.random.random(2)\n",
        "    else:\n",
        "        center = (figsize/2, figsize/2)\n",
        "    radius = (0.3 + 0.7 * np.random.random()) * figsize/2\n",
        "    N = 50\n",
        "    U = np.zeros(N)\n",
        "    V = np.zeros(N)\n",
        "    i = 0\n",
        "    for t in np.linspace(0, 2*np.pi, N):\n",
        "        U[i] = center[0] + np.cos(t) * radius\n",
        "        V[i] = center[1] + np.sin(t) * radius\n",
        "        i = i + 1\n",
        "    return generate_a_drawing(figsize, U, V, noise)\n",
        "\n",
        "def generate_a_triangle(noise=0.0, free_location=False):\n",
        "    figsize = 1.0\n",
        "    if free_location:\n",
        "        U = np.random.random(3)\n",
        "        V = np.random.random(3)\n",
        "    else:\n",
        "        size = (0.3 + 0.7 * np.random.random())*figsize/2\n",
        "        middle = figsize/2\n",
        "        U = (middle, middle+size, middle-size)\n",
        "        V = (middle+size, middle-size, middle-size)\n",
        "    imdata = generate_a_drawing(figsize, U, V, noise)\n",
        "    return [imdata, [U[0], V[0], U[1], V[1], U[2], V[2]]]\n",
        "\n",
        "\n",
        "im = generate_a_rectangle(10, True)\n",
        "plt.figure()\n",
        "plt.imshow(im.reshape(IMAGE_SIZE,IMAGE_SIZE), cmap='gray')\n",
        "\n",
        "im = generate_a_disk(10)\n",
        "plt.figure()\n",
        "plt.imshow(im.reshape(IMAGE_SIZE,IMAGE_SIZE), cmap='gray')\n",
        "\n",
        "[im, v] = generate_a_triangle(20, False)\n",
        "plt.figure()\n",
        "plt.imshow(im.reshape(IMAGE_SIZE,IMAGE_SIZE), cmap='gray')\n",
        "\n",
        "\n",
        "def generate_dataset_classification(nb_samples, noise=0.0, free_location=False):\n",
        "    # Getting im_size:\n",
        "    im_size = generate_a_rectangle().shape[0]\n",
        "    X = np.zeros([nb_samples,im_size])\n",
        "    Y = np.zeros(nb_samples)\n",
        "    print('Creating data:')\n",
        "    for i in range(nb_samples):\n",
        "        if i % 10 == 0:\n",
        "            print(i)\n",
        "        category = np.random.randint(3)\n",
        "        if category == 0:\n",
        "            X[i] = generate_a_rectangle(noise, free_location)\n",
        "        elif category == 1: \n",
        "            X[i] = generate_a_disk(noise, free_location)\n",
        "        else:\n",
        "            [X[i], V] = generate_a_triangle(noise, free_location)\n",
        "        Y[i] = category\n",
        "    X = (X + noise) / (255 + 2 * noise)\n",
        "    return [X, Y]\n",
        "\n",
        "def generate_test_set_classification():\n",
        "    np.random.seed(42)\n",
        "    [X_test, Y_test] = generate_dataset_classification(300, 20, True)\n",
        "    Y_test = np_utils.to_categorical(Y_test, 3) \n",
        "    return [X_test, Y_test]\n",
        "\n",
        "def generate_dataset_regression(nb_samples, noise=0.0):\n",
        "    # Getting im_size:\n",
        "    im_size = generate_a_triangle()[0].shape[0]\n",
        "    X = np.zeros([nb_samples,im_size])\n",
        "    Y = np.zeros([nb_samples, 6])\n",
        "    print('Creating data:')\n",
        "    for i in range(nb_samples):\n",
        "        if i % 10 == 0:\n",
        "            print(i)\n",
        "        [X[i], Y[i]] = generate_a_triangle(noise, True)\n",
        "    X = (X + noise) / (255 + 2 * noise)\n",
        "    return [X, Y]\n",
        "\n",
        "def visualize_prediction(x, y):\n",
        "    fig, ax = plt.subplots(figsize=(5, 5))\n",
        "    I = x.reshape((IMAGE_SIZE,IMAGE_SIZE))\n",
        "    ax.imshow(I, extent=[-0.15,1.15,-0.15,1.15],cmap='gray')\n",
        "    ax.set_xlim([0,1])\n",
        "    ax.set_ylim([0,1])\n",
        "\n",
        "    xy = y.reshape(3,2)\n",
        "    tri = patches.Polygon(xy, closed=True, fill = False, edgecolor = 'r', linewidth = 5, alpha = 0.5)\n",
        "    ax.add_patch(tri)\n",
        "\n",
        "    plt.show()\n",
        "\n",
        "def generate_test_set_regression():\n",
        "    np.random.seed(42)\n",
        "    [X_test, Y_test] = generate_dataset_regression(300, 20)\n",
        "    return [X_test, Y_test]\n",
        "\n",
        "\n"
      ],
      "execution_count": 325,
      "outputs": [
        {
          "output_type": "display_data",
          "data": {
            "image/png": "[encoded data removed]",
            "text/plain": [
              "<matplotlib.figure.Figure at 0x7f151bc25b00>"
            ]
          },
          "metadata": {
            "tags": []
          }
        },
        {
          "output_type": "display_data",
          "data": {
            "image/png": "[encoded data removed]",
            "text/plain": [
              "<matplotlib.figure.Figure at 0x7f1507c1e550>"
            ]
          },
          "metadata": {
            "tags": []
          }
        },
        {
          "output_type": "display_data",
          "data": {
            "image/png": "[encoded data removed]",
            "text/plain": [
              "<matplotlib.figure.Figure at 0x7f1507c40240>"
            ]
          },
          "metadata": {
            "tags": []
          }
        }
      ]
    },
    {
      "metadata": {
        "id": "mKGng2CoUVjn",
        "colab_type": "code",
        "outputId": "f7a5a154-53ff-4ca8-8a69-2245fb0c260e",
        "colab": {
          "base_uri": "https://localhost:8080/",
          "height": 586
        }
      },
      "cell_type": "code",
      "source": [
        "[X_train, Y_train] = generate_dataset_classification(300, 20)\n",
        "Y_train = np_utils.to_categorical(Y_train,num_classes=3)"
      ],
      "execution_count": 326,
      "outputs": [
        {
          "output_type": "stream",
          "text": [
            "Creating data:\n",
            "0\n",
            "10\n",
            "20\n",
            "30\n",
            "40\n",
            "50\n",
            "60\n",
            "70\n",
            "80\n",
            "90\n",
            "100\n",
            "110\n",
            "120\n",
            "130\n",
            "140\n",
            "150\n",
            "160\n",
            "170\n",
            "180\n",
            "190\n",
            "200\n",
            "210\n",
            "220\n",
            "230\n",
            "240\n",
            "250\n",
            "260\n",
            "270\n",
            "280\n",
            "290\n"
          ],
          "name": "stdout"
        }
      ]
    },
    {
      "metadata": {
        "id": "6YiE9VzEnlDI",
        "colab_type": "text"
      },
      "cell_type": "markdown",
      "source": [
        "# Simple Classification"
      ]
    },
    {
      "metadata": {
        "id": "ayHoS1pXhPZB",
        "colab_type": "text"
      },
      "cell_type": "markdown",
      "source": [
        "We would like to classify a picture within the three classes: Circle, rectangle and triangle. To do so, we first try a linear classifier. First we try to Stochastic Gradient Descent."
      ]
    },
    {
      "metadata": {
        "id": "FE-YnFLleIv-",
        "colab_type": "code",
        "outputId": "208b79f4-53ea-4a46-aba5-b5db8872c971",
        "colab": {
          "base_uri": "https://localhost:8080/",
          "height": 403
        }
      },
      "cell_type": "code",
      "source": [
        "model = Sequential()\n",
        "model.add(Dense(3,input_dim=IMAGE_SIZE**2,activation = 'softmax'))\n",
        "\n",
        "sgd = SGD(lr=0.001,decay=1e-6, momentum=0.9,nesterov=True)\n",
        "model.compile(loss='categorical_crossentropy',optimizer=sgd,metrics=['accuracy'])\n",
        "\n",
        "model.fit(X_train, Y_train, epochs=10, batch_size=32)\n",
        "\n",
        "X_test = generate_a_disk()\n",
        "X_test = X_test.reshape(1, X_test.shape[0])\n",
        "print(model.predict(X_test))"
      ],
      "execution_count": 327,
      "outputs": [
        {
          "output_type": "stream",
          "text": [
            "Epoch 1/10\n",
            "300/300 [==============================] - 4s 15ms/step - loss: 1.3308 - acc: 0.4133\n",
            "Epoch 2/10\n",
            "300/300 [==============================] - 0s 154us/step - loss: 0.5985 - acc: 0.7433\n",
            "Epoch 3/10\n",
            "300/300 [==============================] - 0s 149us/step - loss: 0.4181 - acc: 0.8800\n",
            "Epoch 4/10\n",
            "300/300 [==============================] - 0s 148us/step - loss: 0.3355 - acc: 0.9233\n",
            "Epoch 5/10\n",
            "300/300 [==============================] - 0s 168us/step - loss: 0.3076 - acc: 0.8833\n",
            "Epoch 6/10\n",
            "300/300 [==============================] - 0s 172us/step - loss: 0.2719 - acc: 0.9400\n",
            "Epoch 7/10\n",
            "300/300 [==============================] - 0s 169us/step - loss: 0.2219 - acc: 0.9600\n",
            "Epoch 8/10\n",
            "300/300 [==============================] - 0s 167us/step - loss: 0.2183 - acc: 0.9533\n",
            "Epoch 9/10\n",
            "300/300 [==============================] - 0s 161us/step - loss: 0.2041 - acc: 0.9600\n",
            "Epoch 10/10\n",
            "300/300 [==============================] - 0s 175us/step - loss: 0.1784 - acc: 0.9667\n",
            "[[0. 1. 0.]]\n"
          ],
          "name": "stdout"
        }
      ]
    },
    {
      "metadata": {
        "id": "-rc5XZgZhw4d",
        "colab_type": "text"
      },
      "cell_type": "markdown",
      "source": [
        "Then we use the Adam optimizer. We obtain quite similar performances."
      ]
    },
    {
      "metadata": {
        "id": "5mFawD7OM-et",
        "colab_type": "code",
        "outputId": "ad8ef080-fa88-4f53-8d17-f1bfa7b6e90d",
        "colab": {
          "base_uri": "https://localhost:8080/",
          "height": 403
        }
      },
      "cell_type": "code",
      "source": [
        "adam = Adam(lr=0.001, beta_1=0.9, beta_2=0.999, epsilon=1e-8)\n",
        "model.compile(loss='categorical_crossentropy',optimizer=adam,metrics=['accuracy'])\n",
        "\n",
        "model.fit(X_train, Y_train, epochs=10, batch_size=32)\n",
        "\n",
        "X_test = generate_a_disk()\n",
        "X_test = X_test.reshape(1, X_test.shape[0])\n",
        "print(model.predict(X_test))"
      ],
      "execution_count": 328,
      "outputs": [
        {
          "output_type": "stream",
          "text": [
            "Epoch 1/10\n",
            "300/300 [==============================] - 4s 14ms/step - loss: 0.6176 - acc: 0.8067\n",
            "Epoch 2/10\n",
            "300/300 [==============================] - 0s 147us/step - loss: 0.3529 - acc: 0.8367\n",
            "Epoch 3/10\n",
            "300/300 [==============================] - 0s 145us/step - loss: 0.1681 - acc: 0.9633\n",
            "Epoch 4/10\n",
            "300/300 [==============================] - 0s 144us/step - loss: 0.1229 - acc: 0.9867\n",
            "Epoch 5/10\n",
            "300/300 [==============================] - 0s 143us/step - loss: 0.1139 - acc: 0.9767\n",
            "Epoch 6/10\n",
            "300/300 [==============================] - 0s 146us/step - loss: 0.1061 - acc: 0.9867\n",
            "Epoch 7/10\n",
            "300/300 [==============================] - 0s 150us/step - loss: 0.0873 - acc: 0.9967\n",
            "Epoch 8/10\n",
            "300/300 [==============================] - 0s 158us/step - loss: 0.0770 - acc: 0.9933\n",
            "Epoch 9/10\n",
            "300/300 [==============================] - 0s 157us/step - loss: 0.0719 - acc: 1.0000\n",
            "Epoch 10/10\n",
            "300/300 [==============================] - 0s 150us/step - loss: 0.0775 - acc: 1.0000\n",
            "[[0. 1. 0.]]\n"
          ],
          "name": "stdout"
        }
      ]
    },
    {
      "metadata": {
        "id": "jFz61tcJneZF",
        "colab_type": "text"
      },
      "cell_type": "markdown",
      "source": [
        "# Visualization of the Solution"
      ]
    },
    {
      "metadata": {
        "id": "a1fnUo5uCmjR",
        "colab_type": "code",
        "outputId": "b137e3df-c577-4d2a-cab0-7b95cc53eef4",
        "colab": {
          "base_uri": "https://localhost:8080/",
          "height": 150
        }
      },
      "cell_type": "code",
      "source": [
        "fig, axs = plt.subplots(1, 3)\n",
        "for i in range(3):\n",
        "    axs[i].axis('off')\n",
        "    axs[i].imshow(model.get_weights()[0][:,i].reshape(IMAGE_SIZE,IMAGE_SIZE))"
      ],
      "execution_count": 329,
      "outputs": [
        {
          "output_type": "display_data",
          "data": {
            "image/png": "[encoded data removed]",
            "text/plain": [
              "<matplotlib.figure.Figure at 0x7f1502a94518>"
            ]
          },
          "metadata": {
            "tags": []
          }
        }
      ]
    },
    {
      "metadata": {
        "id": "EjeZrkIRnNTw",
        "colab_type": "text"
      },
      "cell_type": "markdown",
      "source": [
        "#A More Diffcult Classification Problem"
      ]
    },
    {
      "metadata": {
        "id": "Rz4lQMBOh7yl",
        "colab_type": "text"
      },
      "cell_type": "markdown",
      "source": [
        "Now the geometric shapes are allowed to be anywhere in the image and not necessarily centered. Therefore the task is more involved."
      ]
    },
    {
      "metadata": {
        "id": "huGSPenhc62G",
        "colab_type": "code",
        "outputId": "214facb8-9708-4e94-b409-c8f1bc158b44",
        "colab": {
          "base_uri": "https://localhost:8080/",
          "height": 586
        }
      },
      "cell_type": "code",
      "source": [
        "[X_train2, Y_train2] = generate_dataset_classification(300, 20, True)\n",
        "Y_train2 = np_utils.to_categorical(Y_train2,num_classes=3)"
      ],
      "execution_count": 330,
      "outputs": [
        {
          "output_type": "stream",
          "text": [
            "Creating data:\n",
            "0\n",
            "10\n",
            "20\n",
            "30\n",
            "40\n",
            "50\n",
            "60\n",
            "70\n",
            "80\n",
            "90\n",
            "100\n",
            "110\n",
            "120\n",
            "130\n",
            "140\n",
            "150\n",
            "160\n",
            "170\n",
            "180\n",
            "190\n",
            "200\n",
            "210\n",
            "220\n",
            "230\n",
            "240\n",
            "250\n",
            "260\n",
            "270\n",
            "280\n",
            "290\n"
          ],
          "name": "stdout"
        }
      ]
    },
    {
      "metadata": {
        "id": "vVfoib-D1xI_",
        "colab_type": "code",
        "outputId": "f52d6f7a-a92a-479e-f6b6-812c6d491de0",
        "colab": {
          "base_uri": "https://localhost:8080/",
          "height": 586
        }
      },
      "cell_type": "code",
      "source": [
        "[X_test2, Y_test2] = generate_test_set_classification()"
      ],
      "execution_count": 331,
      "outputs": [
        {
          "output_type": "stream",
          "text": [
            "Creating data:\n",
            "0\n",
            "10\n",
            "20\n",
            "30\n",
            "40\n",
            "50\n",
            "60\n",
            "70\n",
            "80\n",
            "90\n",
            "100\n",
            "110\n",
            "120\n",
            "130\n",
            "140\n",
            "150\n",
            "160\n",
            "170\n",
            "180\n",
            "190\n",
            "200\n",
            "210\n",
            "220\n",
            "230\n",
            "240\n",
            "250\n",
            "260\n",
            "270\n",
            "280\n",
            "290\n"
          ],
          "name": "stdout"
        }
      ]
    },
    {
      "metadata": {
        "id": "gv5tfkLNo4rt",
        "colab_type": "code",
        "outputId": "57684339-44b4-4017-ee15-9c6af4fbb1de",
        "colab": {
          "base_uri": "https://localhost:8080/",
          "height": 403
        }
      },
      "cell_type": "code",
      "source": [
        "adam = Adam(lr=0.001, beta_1=0.9, beta_2=0.999, epsilon=1e-8)\n",
        "model.compile(loss='categorical_crossentropy',optimizer=adam,metrics=['accuracy'])\n",
        "\n",
        "model.fit(X_train2, Y_train2, epochs=10, batch_size=32)"
      ],
      "execution_count": 332,
      "outputs": [
        {
          "output_type": "stream",
          "text": [
            "Epoch 1/10\n",
            "300/300 [==============================] - 4s 15ms/step - loss: 3.6155 - acc: 0.2967\n",
            "Epoch 2/10\n",
            "300/300 [==============================] - 0s 157us/step - loss: 2.9943 - acc: 0.3000\n",
            "Epoch 3/10\n",
            "300/300 [==============================] - 0s 156us/step - loss: 2.1148 - acc: 0.3800\n",
            "Epoch 4/10\n",
            "300/300 [==============================] - 0s 147us/step - loss: 2.0146 - acc: 0.3700\n",
            "Epoch 5/10\n",
            "300/300 [==============================] - 0s 167us/step - loss: 1.6863 - acc: 0.4033\n",
            "Epoch 6/10\n",
            "300/300 [==============================] - 0s 161us/step - loss: 1.5094 - acc: 0.4033\n",
            "Epoch 7/10\n",
            "300/300 [==============================] - 0s 154us/step - loss: 1.3051 - acc: 0.4767\n",
            "Epoch 8/10\n",
            "300/300 [==============================] - 0s 175us/step - loss: 1.3858 - acc: 0.4733\n",
            "Epoch 9/10\n",
            "300/300 [==============================] - 0s 155us/step - loss: 1.0673 - acc: 0.5100\n",
            "Epoch 10/10\n",
            "300/300 [==============================] - 0s 162us/step - loss: 1.1846 - acc: 0.4967\n"
          ],
          "name": "stdout"
        },
        {
          "output_type": "execute_result",
          "data": {
            "text/plain": [
              "<keras.callbacks.History at 0x7f1512cf9978>"
            ]
          },
          "metadata": {
            "tags": []
          },
          "execution_count": 332
        }
      ]
    },
    {
      "metadata": {
        "id": "Sw5LNAnhiJC2",
        "colab_type": "text"
      },
      "cell_type": "markdown",
      "source": [
        "We find a lower accuracy than before with this new problem when we still use a linear classifier."
      ]
    },
    {
      "metadata": {
        "id": "to4fth5u3oAh",
        "colab_type": "code",
        "outputId": "35394171-8253-46fd-e392-8b42b044d24b",
        "colab": {
          "base_uri": "https://localhost:8080/",
          "height": 72
        }
      },
      "cell_type": "code",
      "source": [
        "eval = model.evaluate(X_test2, Y_test2)\n",
        "for i in range(2):\n",
        "    print('{} : {}'.format(model.metrics_names[i],eval[i]))"
      ],
      "execution_count": 333,
      "outputs": [
        {
          "output_type": "stream",
          "text": [
            "300/300 [==============================] - 2s 6ms/step\n",
            "loss : 1.1342944208780925\n",
            "acc : 0.45666666666666667\n"
          ],
          "name": "stdout"
        }
      ]
    },
    {
      "metadata": {
        "id": "YiyV8KuSiRB1",
        "colab_type": "text"
      },
      "cell_type": "markdown",
      "source": [
        "We want to try a more complex model, with a convolutional filter."
      ]
    },
    {
      "metadata": {
        "id": "QxEdlh7z4pfV",
        "colab_type": "code",
        "outputId": "78f88348-2969-4b0f-bb6e-270176cbfdc9",
        "colab": {
          "base_uri": "https://localhost:8080/",
          "height": 770
        }
      },
      "cell_type": "code",
      "source": [
        "Xtrain2 = X_train2.reshape(X_train2.shape[0],IMAGE_SIZE,IMAGE_SIZE,1)\n",
        "\n",
        "model = Sequential()\n",
        "model.add(Conv2D(16, (5, 5), activation='relu',input_shape=(IMAGE_SIZE,IMAGE_SIZE,1)))\n",
        "model.add(MaxPooling2D(pool_size=(2, 2)))\n",
        "model.add(Flatten())\n",
        "model.add(Dense(3, activation = 'softmax'))\n",
        "\n",
        "adam = Adam(lr=0.001, beta_1=0.9, beta_2=0.999, epsilon=1e-8)\n",
        "model.compile(loss='categorical_crossentropy',optimizer=adam,metrics=['accuracy'])\n",
        "\n",
        "model.fit(Xtrain2, Y_train2, epochs=20, batch_size=32)"
      ],
      "execution_count": 421,
      "outputs": [
        {
          "output_type": "stream",
          "text": [
            "Epoch 1/20\n",
            "300/300 [==============================] - 8s 25ms/step - loss: 1.3643 - acc: 0.3700\n",
            "Epoch 2/20\n",
            "300/300 [==============================] - 1s 4ms/step - loss: 1.0121 - acc: 0.5467\n",
            "Epoch 3/20\n",
            "300/300 [==============================] - 1s 4ms/step - loss: 0.8494 - acc: 0.6467\n",
            "Epoch 4/20\n",
            "300/300 [==============================] - 1s 4ms/step - loss: 0.7333 - acc: 0.7833\n",
            "Epoch 5/20\n",
            "300/300 [==============================] - 1s 4ms/step - loss: 0.6572 - acc: 0.7900\n",
            "Epoch 6/20\n",
            "300/300 [==============================] - 1s 4ms/step - loss: 0.5767 - acc: 0.8067\n",
            "Epoch 7/20\n",
            "300/300 [==============================] - 1s 4ms/step - loss: 0.5469 - acc: 0.7933\n",
            "Epoch 8/20\n",
            "300/300 [==============================] - 1s 4ms/step - loss: 0.4932 - acc: 0.8600\n",
            "Epoch 9/20\n",
            "300/300 [==============================] - 1s 4ms/step - loss: 0.4663 - acc: 0.8400\n",
            "Epoch 10/20\n",
            "300/300 [==============================] - 1s 4ms/step - loss: 0.4154 - acc: 0.9000\n",
            "Epoch 11/20\n",
            "300/300 [==============================] - 1s 4ms/step - loss: 0.3739 - acc: 0.9167\n",
            "Epoch 12/20\n",
            "300/300 [==============================] - 1s 4ms/step - loss: 0.3532 - acc: 0.9000\n",
            "Epoch 13/20\n",
            "300/300 [==============================] - 1s 4ms/step - loss: 0.3216 - acc: 0.9400\n",
            "Epoch 14/20\n",
            "300/300 [==============================] - 1s 4ms/step - loss: 0.2943 - acc: 0.9333\n",
            "Epoch 15/20\n",
            "300/300 [==============================] - 1s 4ms/step - loss: 0.2743 - acc: 0.9433\n",
            "Epoch 16/20\n",
            "300/300 [==============================] - 1s 4ms/step - loss: 0.2514 - acc: 0.9433\n",
            "Epoch 17/20\n",
            "300/300 [==============================] - 1s 4ms/step - loss: 0.2329 - acc: 0.9667\n",
            "Epoch 18/20\n",
            "300/300 [==============================] - 1s 4ms/step - loss: 0.2284 - acc: 0.9600\n",
            "Epoch 19/20\n",
            "300/300 [==============================] - 1s 4ms/step - loss: 0.2050 - acc: 0.9767\n",
            "Epoch 20/20\n",
            "300/300 [==============================] - 1s 4ms/step - loss: 0.1875 - acc: 0.9900\n"
          ],
          "name": "stdout"
        },
        {
          "output_type": "execute_result",
          "data": {
            "text/plain": [
              "<keras.callbacks.History at 0x7f150232c630>"
            ]
          },
          "metadata": {
            "tags": []
          },
          "execution_count": 421
        }
      ]
    },
    {
      "metadata": {
        "id": "6krfsdJAi4e_",
        "colab_type": "text"
      },
      "cell_type": "markdown",
      "source": [
        "Adding non linearities and convolutions allows us to gain a better acuracy for the classification task."
      ]
    },
    {
      "metadata": {
        "id": "Vke9x1l9gMXj",
        "colab_type": "code",
        "outputId": "9df12c00-0a77-41dd-ad38-5806dedf72b4",
        "colab": {
          "base_uri": "https://localhost:8080/",
          "height": 72
        }
      },
      "cell_type": "code",
      "source": [
        "eval = model.evaluate(X_test2.reshape(X_test2.shape[0],IMAGE_SIZE,IMAGE_SIZE,1), Y_test2)\n",
        "for i in range(2):\n",
        "    print('{} : {}'.format(model.metrics_names[i],eval[i]))"
      ],
      "execution_count": 422,
      "outputs": [
        {
          "output_type": "stream",
          "text": [
            "300/300 [==============================] - 4s 12ms/step\n",
            "loss : 0.722373681863149\n",
            "acc : 0.686666665871938\n"
          ],
          "name": "stdout"
        }
      ]
    },
    {
      "metadata": {
        "id": "DQecaebSnq-3",
        "colab_type": "text"
      },
      "cell_type": "markdown",
      "source": [
        "# A Regression Problem"
      ]
    },
    {
      "metadata": {
        "id": "BYmEgenog9It",
        "colab_type": "text"
      },
      "cell_type": "markdown",
      "source": [
        "We wish to estimate the vertexes positions of a triangle in an input image."
      ]
    },
    {
      "metadata": {
        "id": "DEi8_TRLnvLy",
        "colab_type": "code",
        "outputId": "14b76b16-fe86-452c-9e59-5d3c918ee3bb",
        "colab": {
          "base_uri": "https://localhost:8080/",
          "height": 893
        }
      },
      "cell_type": "code",
      "source": [
        "[X_train3, Y_train3] = generate_dataset_regression(300, 20)\n",
        "visualize_prediction(X_train3[0], Y_train3[0])"
      ],
      "execution_count": 336,
      "outputs": [
        {
          "output_type": "stream",
          "text": [
            "Creating data:\n",
            "0\n",
            "10\n",
            "20\n",
            "30\n",
            "40\n",
            "50\n",
            "60\n",
            "70\n",
            "80\n",
            "90\n",
            "100\n",
            "110\n",
            "120\n",
            "130\n",
            "140\n",
            "150\n",
            "160\n",
            "170\n",
            "180\n",
            "190\n",
            "200\n",
            "210\n",
            "220\n",
            "230\n",
            "240\n",
            "250\n",
            "260\n",
            "270\n",
            "280\n",
            "290\n"
          ],
          "name": "stdout"
        },
        {
          "output_type": "display_data",
          "data": {
            "image/png": "[encoded data removed]",
            "text/plain": [
              "<matplotlib.figure.Figure at 0x7f150a641898>"
            ]
          },
          "metadata": {
            "tags": []
          }
        }
      ]
    },
    {
      "metadata": {
        "id": "wireNlUT5TmN",
        "colab_type": "code",
        "outputId": "6aa0093e-b2c2-40ce-f398-23eead27552d",
        "colab": {
          "base_uri": "https://localhost:8080/",
          "height": 770
        }
      },
      "cell_type": "code",
      "source": [
        "model = Sequential()\n",
        "model.add(Conv2D(16, (5, 5), activation='relu',input_shape=(IMAGE_SIZE,IMAGE_SIZE,1)))\n",
        "#model.add(Conv2D(16, (3, 3), activation='relu',input_shape=(IMAGE_SIZE,IMAGE_SIZE,1)))\n",
        "model.add(MaxPooling2D(pool_size=(3, 3)))\n",
        "#model.add(Dropout(0.2))\n",
        "#model.add(Conv2D(8, (3, 3), activation='relu',input_shape=(IMAGE_SIZE,IMAGE_SIZE,1)))\n",
        "#model.add(MaxPooling2D(pool_size=(2, 2)))\n",
        "\n",
        "model.add(Flatten())\n",
        "#model.add(Dense(12,activation='relu'))\n",
        "#model.add(Dropout(0.2))\n",
        "model.add(Dense(6))\n",
        "\n",
        "adam = Adam(lr=0.001, beta_1=0.9, beta_2=0.999, epsilon=1e-8)\n",
        "model.compile(loss='mean_absolute_error',optimizer=adam)\n",
        "\n",
        "model.fit(X_train3.reshape(X_train3.shape[0],IMAGE_SIZE,IMAGE_SIZE,1), Y_train3, epochs=20, batch_size=32)"
      ],
      "execution_count": 477,
      "outputs": [
        {
          "output_type": "stream",
          "text": [
            "Epoch 1/20\n",
            "300/300 [==============================] - 10s 32ms/step - loss: 0.3062\n",
            "Epoch 2/20\n",
            "300/300 [==============================] - 1s 4ms/step - loss: 0.2440\n",
            "Epoch 3/20\n",
            "300/300 [==============================] - 1s 4ms/step - loss: 0.2084\n",
            "Epoch 4/20\n",
            "300/300 [==============================] - 1s 4ms/step - loss: 0.1949\n",
            "Epoch 5/20\n",
            "300/300 [==============================] - 1s 4ms/step - loss: 0.1765\n",
            "Epoch 6/20\n",
            "300/300 [==============================] - 1s 4ms/step - loss: 0.1672\n",
            "Epoch 7/20\n",
            "300/300 [==============================] - 1s 4ms/step - loss: 0.1548\n",
            "Epoch 8/20\n",
            "300/300 [==============================] - 1s 4ms/step - loss: 0.1416\n",
            "Epoch 9/20\n",
            "300/300 [==============================] - 1s 4ms/step - loss: 0.1318\n",
            "Epoch 10/20\n",
            "300/300 [==============================] - 1s 4ms/step - loss: 0.1246\n",
            "Epoch 11/20\n",
            "300/300 [==============================] - 1s 4ms/step - loss: 0.1135\n",
            "Epoch 12/20\n",
            "300/300 [==============================] - 1s 4ms/step - loss: 0.1081\n",
            "Epoch 13/20\n",
            "300/300 [==============================] - 1s 4ms/step - loss: 0.1069\n",
            "Epoch 14/20\n",
            "300/300 [==============================] - 1s 4ms/step - loss: 0.1052\n",
            "Epoch 15/20\n",
            "300/300 [==============================] - 1s 4ms/step - loss: 0.0995\n",
            "Epoch 16/20\n",
            "300/300 [==============================] - 1s 4ms/step - loss: 0.0898\n",
            "Epoch 17/20\n",
            "300/300 [==============================] - 1s 4ms/step - loss: 0.0857\n",
            "Epoch 18/20\n",
            "300/300 [==============================] - 1s 4ms/step - loss: 0.0782\n",
            "Epoch 19/20\n",
            "300/300 [==============================] - 1s 4ms/step - loss: 0.0749\n",
            "Epoch 20/20\n",
            "300/300 [==============================] - 1s 4ms/step - loss: 0.0713\n"
          ],
          "name": "stdout"
        },
        {
          "output_type": "execute_result",
          "data": {
            "text/plain": [
              "<keras.callbacks.History at 0x7f14fddc4128>"
            ]
          },
          "metadata": {
            "tags": []
          },
          "execution_count": 477
        }
      ]
    },
    {
      "metadata": {
        "id": "iHbPryywlhiJ",
        "colab_type": "code",
        "colab": {
          "base_uri": "https://localhost:8080/",
          "height": 256
        },
        "outputId": "8a8f12a1-edf7-416f-d14d-8c626e9f3583"
      },
      "cell_type": "code",
      "source": [
        "model.summary()"
      ],
      "execution_count": 462,
      "outputs": [
        {
          "output_type": "stream",
          "text": [
            "_________________________________________________________________\n",
            "Layer (type)                 Output Shape              Param #   \n",
            "=================================================================\n",
            "conv2d_490 (Conv2D)          (None, 68, 68, 16)        416       \n",
            "_________________________________________________________________\n",
            "flatten_91 (Flatten)         (None, 73984)             0         \n",
            "_________________________________________________________________\n",
            "dense_128 (Dense)            (None, 6)                 443910    \n",
            "=================================================================\n",
            "Total params: 444,326\n",
            "Trainable params: 444,326\n",
            "Non-trainable params: 0\n",
            "_________________________________________________________________\n"
          ],
          "name": "stdout"
        }
      ]
    },
    {
      "metadata": {
        "id": "G5kd7WOp6zhZ",
        "colab_type": "code",
        "outputId": "f56b00dc-4dac-4a8d-f9f4-120a61c3daad",
        "colab": {
          "base_uri": "https://localhost:8080/",
          "height": 586
        }
      },
      "cell_type": "code",
      "source": [
        "[X_test3, Y_test3] = generate_test_set_regression()"
      ],
      "execution_count": 356,
      "outputs": [
        {
          "output_type": "stream",
          "text": [
            "Creating data:\n",
            "0\n",
            "10\n",
            "20\n",
            "30\n",
            "40\n",
            "50\n",
            "60\n",
            "70\n",
            "80\n",
            "90\n",
            "100\n",
            "110\n",
            "120\n",
            "130\n",
            "140\n",
            "150\n",
            "160\n",
            "170\n",
            "180\n",
            "190\n",
            "200\n",
            "210\n",
            "220\n",
            "230\n",
            "240\n",
            "250\n",
            "260\n",
            "270\n",
            "280\n",
            "290\n"
          ],
          "name": "stdout"
        }
      ]
    },
    {
      "metadata": {
        "id": "euy2VgsXBkxu",
        "colab_type": "code",
        "outputId": "fe68533a-9603-43ac-8891-4cb556dc39cc",
        "colab": {
          "base_uri": "https://localhost:8080/",
          "height": 668
        }
      },
      "cell_type": "code",
      "source": [
        "visualize_prediction(X_train3[0], model.predict(X_train3[0].reshape(1,IMAGE_SIZE,IMAGE_SIZE,1)))\n",
        "visualize_prediction(X_test3[5], model.predict(X_test3[5].reshape(1,IMAGE_SIZE,IMAGE_SIZE,1)))\n",
        "Y_test3[5]"
      ],
      "execution_count": 478,
      "outputs": [
        {
          "output_type": "display_data",
          "data": {
            "image/png": "[encoded data removed]",
            "text/plain": [
              "<matplotlib.figure.Figure at 0x7f14fdda4d30>"
            ]
          },
          "metadata": {
            "tags": []
          }
        },
        {
          "output_type": "display_data",
          "data": {
            "image/png": "[encoded data removed]",
            "text/plain": [
              "<matplotlib.figure.Figure at 0x7f14fdda4e48>"
            ]
          },
          "metadata": {
            "tags": []
          }
        },
        {
          "output_type": "execute_result",
          "data": {
            "text/plain": [
              "array([0.77639342, 0.5454629 , 0.39686117, 0.68093838, 0.90700812,\n",
              "       0.09480827])"
            ]
          },
          "metadata": {
            "tags": []
          },
          "execution_count": 478
        }
      ]
    },
    {
      "metadata": {
        "id": "5Hcwy5o168Wo",
        "colab_type": "code",
        "outputId": "d0cff94b-d97d-4e92-fc56-830705d105be",
        "colab": {
          "base_uri": "https://localhost:8080/",
          "height": 54
        }
      },
      "cell_type": "code",
      "source": [
        "eval = model.evaluate(X_test3.reshape(X_test3.shape[0],IMAGE_SIZE,IMAGE_SIZE,1), Y_test3)\n",
        "print('{} : {}'.format(model.metrics_names[0],eval))"
      ],
      "execution_count": 479,
      "outputs": [
        {
          "output_type": "stream",
          "text": [
            "300/300 [==============================] - 4s 14ms/step\n",
            "loss : 0.2390589251120885\n"
          ],
          "name": "stdout"
        }
      ]
    },
    {
      "metadata": {
        "id": "XwuyHTfUgBox",
        "colab_type": "text"
      },
      "cell_type": "markdown",
      "source": [
        "Our model suffers from overfitting. We tried to use dropout but it didn't improve the performances."
      ]
    },
    {
      "metadata": {
        "id": "T-PlMa_MXZ_r",
        "colab_type": "text"
      },
      "cell_type": "markdown",
      "source": [
        "# Image denoising\n",
        "\n",
        "We change the generation functions in order to produce pairs of images with a noise-free image and a noisy version of this image. The noisy is of random amplitude, bounded by a parameter we choose when creating the datasets."
      ]
    },
    {
      "metadata": {
        "id": "UIBWRJQkXdoO",
        "colab_type": "code",
        "colab": {}
      },
      "cell_type": "code",
      "source": [
        "def generate_rectangles(noise=0.0, free_location=False):\n",
        "    figsize = 1.0    \n",
        "    U = np.zeros(4)\n",
        "    V = np.zeros(4)\n",
        "    if free_location:\n",
        "        corners = np.random.random(4)\n",
        "        top = max(corners[0], corners[1])\n",
        "        bottom = min(corners[0], corners[1])\n",
        "        left = min(corners[2], corners[3])\n",
        "        right = max(corners[2], corners[3])\n",
        "    else:\n",
        "        side = (0.3 + 0.7 * np.random.random()) * figsize\n",
        "        top = figsize/2 + side/2\n",
        "        bottom = figsize/2 - side/2\n",
        "        left = bottom\n",
        "        right = top\n",
        "    U[0] = U[1] = top\n",
        "    U[2] = U[3] = bottom\n",
        "    V[0] = V[3] = left\n",
        "    V[1] = V[2] = right\n",
        "    return [generate_drawings(figsize, U, V, noise),generate_drawings(figsize, U, V, 0)]\n",
        "\n",
        "\n",
        "def generate_disks(noise=0.0, free_location=False):\n",
        "    figsize = 1.0\n",
        "    if free_location:\n",
        "        center = np.random.random(2)\n",
        "    else:\n",
        "        center = (figsize/2, figsize/2)\n",
        "    radius = (0.3 + 0.7 * np.random.random()) * figsize/2\n",
        "    N = 50\n",
        "    U = np.zeros(N)\n",
        "    V = np.zeros(N)\n",
        "    i = 0\n",
        "    for t in np.linspace(0, 2*np.pi, N):\n",
        "        U[i] = center[0] + np.cos(t) * radius\n",
        "        V[i] = center[1] + np.sin(t) * radius\n",
        "        i = i + 1\n",
        "    return [generate_drawings(figsize, U, V, noise),generate_drawings(figsize, U, V, 0)]\n",
        "\n",
        "def generate_triangles(noise=0.0, free_location=False):\n",
        "    figsize = 1.0\n",
        "    if free_location:\n",
        "        U = np.random.random(3)\n",
        "        V = np.random.random(3)\n",
        "    else:\n",
        "        size = (0.3 + 0.7 * np.random.random())*figsize/2\n",
        "        middle = figsize/2\n",
        "        U = (middle, middle+size, middle-size)\n",
        "        V = (middle+size, middle-size, middle-size)\n",
        "    imdata = generate_drawings(figsize, U, V, noise)\n",
        "    imdata2 = generate_drawings(figsize, U, V, 0)\n",
        "    return [imdata, imdata2, [U[0], V[0], U[1], V[1], U[2], V[2]]]\n",
        "\n",
        "def generate_dataset_classification_noise(nb_samples, noise=20, free_location=False):\n",
        "    # Getting im_size:\n",
        "    im_size = generate_a_rectangle().shape[0]\n",
        "    X = np.zeros([nb_samples,im_size])\n",
        "    Y = np.zeros([nb_samples,im_size])\n",
        "    print('Creating data:')\n",
        "    for i in range(nb_samples):\n",
        "        if i % 10 == 0:\n",
        "            print(i)\n",
        "        category = np.random.randint(3)\n",
        "        if category == 0:\n",
        "            [X[i],Y[i]] = generate_rectangles(noise, free_location)\n",
        "        elif category == 1: \n",
        "            [X[i],Y[i]] = generate_disks(noise, free_location)\n",
        "        else:\n",
        "            [X[i], Y[i], V] = generate_triangles(noise, free_location)\n",
        "    X = (X + noise) / (255 + 2 * noise)\n",
        "    Y = Y  / 255\n",
        "    return [X, Y]\n",
        "\n",
        "def visualize(x):\n",
        "    fig, ax = plt.subplots(figsize=(5, 5))\n",
        "    I = x.reshape((IMAGE_SIZE,IMAGE_SIZE))\n",
        "    ax.imshow(I, extent=[-0.15,1.15,-0.15,1.15],cmap='gray')\n",
        "    ax.set_xlim([0,1])\n",
        "    ax.set_ylim([0,1])\n",
        "\n",
        "    plt.show()\n",
        "    \n",
        "def generate_drawings(figsize, U, V, noise_max=0.0):\n",
        "    fig = plt.figure(figsize=(figsize,figsize))\n",
        "    ax = plt.subplot(111)\n",
        "    plt.axis('Off')\n",
        "    ax.set_xlim(0,figsize)\n",
        "    ax.set_ylim(0,figsize)\n",
        "    ax.fill(U, V, \"k\")\n",
        "    fig.canvas.draw()\n",
        "    imdata = np.frombuffer(fig.canvas.tostring_rgb(), dtype=np.uint8)[::3].astype(np.float32)\n",
        "    imdata = imdata + noise_max * np.random.random_sample() * np.random.random(imdata.size)\n",
        "    plt.close(fig)\n",
        "    return imdata"
      ],
      "execution_count": 0,
      "outputs": []
    },
    {
      "metadata": {
        "id": "bGiG7VNHgJq4",
        "colab_type": "text"
      },
      "cell_type": "markdown",
      "source": [
        "We test the image pairs generation:"
      ]
    },
    {
      "metadata": {
        "id": "J6N_jGOPYEl9",
        "colab_type": "code",
        "outputId": "141a0a28-327d-4b2f-d252-29e4232d880d",
        "colab": {
          "base_uri": "https://localhost:8080/",
          "height": 269
        }
      },
      "cell_type": "code",
      "source": [
        "[im1,im2] = generate_rectangles(10, True)\n",
        "[im3,im4] = generate_disks(10,True)\n",
        "[im5,im6,v] = generate_triangles(20, True)\n",
        "\n",
        "im = [im1,im2,im3,im4,im5,im6]\n",
        "\n",
        "fig, axs = plt.subplots(3, 2)\n",
        "for i in range(3):\n",
        "    axs[i,0].axis('off')\n",
        "    axs[i,1].axis('off')\n",
        "    axs[i,0].imshow(im[2*i-2].reshape(IMAGE_SIZE,IMAGE_SIZE), cmap='gray')\n",
        "    axs[i,1].imshow(im[2*i-1].reshape(IMAGE_SIZE,IMAGE_SIZE), cmap='gray')"
      ],
      "execution_count": 343,
      "outputs": [
        {
          "output_type": "display_data",
          "data": {
            "image/png": "[encoded data removed]",
            "text/plain": [
              "<matplotlib.figure.Figure at 0x7f15045d2128>"
            ]
          },
          "metadata": {
            "tags": []
          }
        }
      ]
    },
    {
      "metadata": {
        "id": "_EvNqECJFKAJ",
        "colab_type": "code",
        "outputId": "29c079b7-1ba8-4e67-cb4b-ec08e4e3a9c7",
        "colab": {
          "base_uri": "https://localhost:8080/",
          "height": 1156
        }
      },
      "cell_type": "code",
      "source": [
        "[X_train4, Y_train4] = generate_dataset_classification_noise(300, 20 , True)\n",
        "[X_test4, Y_test4] = generate_dataset_classification_noise(300, 20 , True)"
      ],
      "execution_count": 350,
      "outputs": [
        {
          "output_type": "stream",
          "text": [
            "Creating data:\n",
            "0\n",
            "10\n",
            "20\n",
            "30\n",
            "40\n",
            "50\n",
            "60\n",
            "70\n",
            "80\n",
            "90\n",
            "100\n",
            "110\n",
            "120\n",
            "130\n",
            "140\n",
            "150\n",
            "160\n",
            "170\n",
            "180\n",
            "190\n",
            "200\n",
            "210\n",
            "220\n",
            "230\n",
            "240\n",
            "250\n",
            "260\n",
            "270\n",
            "280\n",
            "290\n",
            "Creating data:\n",
            "0\n",
            "10\n",
            "20\n",
            "30\n",
            "40\n",
            "50\n",
            "60\n",
            "70\n",
            "80\n",
            "90\n",
            "100\n",
            "110\n",
            "120\n",
            "130\n",
            "140\n",
            "150\n",
            "160\n",
            "170\n",
            "180\n",
            "190\n",
            "200\n",
            "210\n",
            "220\n",
            "230\n",
            "240\n",
            "250\n",
            "260\n",
            "270\n",
            "280\n",
            "290\n"
          ],
          "name": "stdout"
        }
      ]
    },
    {
      "metadata": {
        "id": "eVbSdzo4s_ji",
        "colab_type": "text"
      },
      "cell_type": "markdown",
      "source": [
        "We use an hourglass network to perform the denoising task."
      ]
    },
    {
      "metadata": {
        "id": "r9hg5nbda6kq",
        "colab_type": "code",
        "outputId": "ef5fe277-c0b7-418a-da0b-720de23f592d",
        "colab": {
          "base_uri": "https://localhost:8080/",
          "height": 1229
        }
      },
      "cell_type": "code",
      "source": [
        "inputs = Input(shape=(72,72,1))\n",
        "\n",
        "conv1 = Conv2D(64, 3, activation = 'relu',padding='same')(inputs)\n",
        "pool1 = MaxPooling2D(pool_size=(2, 2))(conv1)\n",
        "\n",
        "conv2 = Conv2D(64, 3, activation = 'relu',padding='same')(pool1)\n",
        "pool2 = MaxPooling2D(pool_size=(2, 2))(conv2)\n",
        "\n",
        "conv3 = Conv2D(64, 3, activation = 'relu',padding='same')(pool2)\n",
        "pool3 = MaxPooling2D(pool_size=(2, 2))(conv3)\n",
        "\n",
        "up4 = UpSampling2D(size = (2,2))(pool3)\n",
        "up_conv4 = Conv2D(64, 3, activation = 'relu',padding='same')(up4)\n",
        "merge4 = concatenate([conv3,up_conv4], axis=-1)\n",
        "\n",
        "up5 = UpSampling2D(size = (2,2))(merge4)\n",
        "up_conv5 = Conv2D(64, 3, activation = 'relu',padding='same')(up5)\n",
        "merge5 = concatenate([conv2,up_conv5], axis=-1)\n",
        "\n",
        "up6 = UpSampling2D(size = (2,2))(merge5)\n",
        "up_conv6 = Conv2D(64, 3, activation = 'relu',padding='same')(up6)\n",
        "merge6 = concatenate([conv1,up_conv6], axis=-1)\n",
        "\n",
        "conv7 = Conv2D(1, 1, activation = 'sigmoid')(merge6)\n",
        "model = Model(input = inputs, output = conv7)\n",
        "model.compile(optimizer = 'adam',\n",
        "loss = 'mean_squared_error')\n",
        "\n",
        "model.summary()\n",
        "\n",
        "model.fit(X_train4.reshape(X_train3.shape[0],IMAGE_SIZE,IMAGE_SIZE,1), Y_train4.reshape(X_train3.shape[0],IMAGE_SIZE,IMAGE_SIZE,1), epochs=10, batch_size=32)"
      ],
      "execution_count": 445,
      "outputs": [
        {
          "output_type": "stream",
          "text": [
            "/usr/local/lib/python3.6/dist-packages/ipykernel_launcher.py:25: UserWarning: Update your `Model` call to the Keras 2 API: `Model(inputs=Tensor(\"in..., outputs=Tensor(\"co...)`\n"
          ],
          "name": "stderr"
        },
        {
          "output_type": "stream",
          "text": [
            "__________________________________________________________________________________________________\n",
            "Layer (type)                    Output Shape         Param #     Connected to                     \n",
            "==================================================================================================\n",
            "input_43 (InputLayer)           (None, 72, 72, 1)    0                                            \n",
            "__________________________________________________________________________________________________\n",
            "conv2d_475 (Conv2D)             (None, 72, 72, 64)   640         input_43[0][0]                   \n",
            "__________________________________________________________________________________________________\n",
            "max_pooling2d_227 (MaxPooling2D (None, 36, 36, 64)   0           conv2d_475[0][0]                 \n",
            "__________________________________________________________________________________________________\n",
            "conv2d_476 (Conv2D)             (None, 36, 36, 64)   36928       max_pooling2d_227[0][0]          \n",
            "__________________________________________________________________________________________________\n",
            "max_pooling2d_228 (MaxPooling2D (None, 18, 18, 64)   0           conv2d_476[0][0]                 \n",
            "__________________________________________________________________________________________________\n",
            "conv2d_477 (Conv2D)             (None, 18, 18, 64)   36928       max_pooling2d_228[0][0]          \n",
            "__________________________________________________________________________________________________\n",
            "max_pooling2d_229 (MaxPooling2D (None, 9, 9, 64)     0           conv2d_477[0][0]                 \n",
            "__________________________________________________________________________________________________\n",
            "up_sampling2d_91 (UpSampling2D) (None, 18, 18, 64)   0           max_pooling2d_229[0][0]          \n",
            "__________________________________________________________________________________________________\n",
            "conv2d_478 (Conv2D)             (None, 18, 18, 64)   36928       up_sampling2d_91[0][0]           \n",
            "__________________________________________________________________________________________________\n",
            "concatenate_32 (Concatenate)    (None, 18, 18, 128)  0           conv2d_477[0][0]                 \n",
            "                                                                 conv2d_478[0][0]                 \n",
            "__________________________________________________________________________________________________\n",
            "up_sampling2d_92 (UpSampling2D) (None, 36, 36, 128)  0           concatenate_32[0][0]             \n",
            "__________________________________________________________________________________________________\n",
            "conv2d_479 (Conv2D)             (None, 36, 36, 64)   73792       up_sampling2d_92[0][0]           \n",
            "__________________________________________________________________________________________________\n",
            "concatenate_33 (Concatenate)    (None, 36, 36, 128)  0           conv2d_476[0][0]                 \n",
            "                                                                 conv2d_479[0][0]                 \n",
            "__________________________________________________________________________________________________\n",
            "up_sampling2d_93 (UpSampling2D) (None, 72, 72, 128)  0           concatenate_33[0][0]             \n",
            "__________________________________________________________________________________________________\n",
            "conv2d_480 (Conv2D)             (None, 72, 72, 64)   73792       up_sampling2d_93[0][0]           \n",
            "__________________________________________________________________________________________________\n",
            "concatenate_34 (Concatenate)    (None, 72, 72, 128)  0           conv2d_475[0][0]                 \n",
            "                                                                 conv2d_480[0][0]                 \n",
            "__________________________________________________________________________________________________\n",
            "conv2d_481 (Conv2D)             (None, 72, 72, 1)    129         concatenate_34[0][0]             \n",
            "==================================================================================================\n",
            "Total params: 259,137\n",
            "Trainable params: 259,137\n",
            "Non-trainable params: 0\n",
            "__________________________________________________________________________________________________\n",
            "Epoch 1/10\n",
            "300/300 [==============================] - 37s 124ms/step - loss: 0.1066\n",
            "Epoch 2/10\n",
            "300/300 [==============================] - 30s 99ms/step - loss: 0.0411\n",
            "Epoch 3/10\n",
            "300/300 [==============================] - 30s 99ms/step - loss: 0.0084\n",
            "Epoch 4/10\n",
            "300/300 [==============================] - 30s 99ms/step - loss: 0.0032\n",
            "Epoch 5/10\n",
            "300/300 [==============================] - 30s 100ms/step - loss: 0.0026\n",
            "Epoch 6/10\n",
            "300/300 [==============================] - 30s 99ms/step - loss: 0.0021\n",
            "Epoch 7/10\n",
            "300/300 [==============================] - 30s 100ms/step - loss: 0.0018\n",
            "Epoch 8/10\n",
            "300/300 [==============================] - 30s 100ms/step - loss: 0.0014\n",
            "Epoch 9/10\n",
            "300/300 [==============================] - 30s 99ms/step - loss: 0.0012\n",
            "Epoch 10/10\n",
            "300/300 [==============================] - 30s 100ms/step - loss: 9.8350e-04\n"
          ],
          "name": "stdout"
        },
        {
          "output_type": "execute_result",
          "data": {
            "text/plain": [
              "<keras.callbacks.History at 0x7f15067af908>"
            ]
          },
          "metadata": {
            "tags": []
          },
          "execution_count": 445
        }
      ]
    },
    {
      "metadata": {
        "id": "VDBQ3_lEgXmK",
        "colab_type": "text"
      },
      "cell_type": "markdown",
      "source": [
        "Here are results of the network application on test images. The noisy image is at the left, the noise-free image is at the right and the result is located at the center."
      ]
    },
    {
      "metadata": {
        "id": "h7Typn5IMwWh",
        "colab_type": "code",
        "outputId": "4241ad06-86da-454b-cf51-1c1b4216ae4e",
        "colab": {
          "base_uri": "https://localhost:8080/",
          "height": 682
        }
      },
      "cell_type": "code",
      "source": [
        "for j in range(5):\n",
        "    fig, axs = plt.subplots(1, 3)\n",
        "    axs[0].axis('off')\n",
        "    axs[1].axis('off')\n",
        "    axs[2].axis('off')\n",
        "    axs[0].imshow(X_test4[j].reshape(IMAGE_SIZE,IMAGE_SIZE), cmap='gray')\n",
        "    axs[1].imshow(model.predict(X_test4[j].reshape(1,IMAGE_SIZE,IMAGE_SIZE,1)).reshape(IMAGE_SIZE,IMAGE_SIZE), cmap='gray')\n",
        "    axs[2].imshow(Y_test4[j].reshape(IMAGE_SIZE,IMAGE_SIZE), cmap='gray')"
      ],
      "execution_count": 351,
      "outputs": [
        {
          "output_type": "display_data",
          "data": {
            "image/png": "[encoded data removed]",
            "text/plain": [
              "<matplotlib.figure.Figure at 0x7f14fa2fce80>"
            ]
          },
          "metadata": {
            "tags": []
          }
        },
        {
          "output_type": "display_data",
          "data": {
            "image/png": "[encoded data removed]",
            "text/plain": [
              "<matplotlib.figure.Figure at 0x7f14fa22c470>"
            ]
          },
          "metadata": {
            "tags": []
          }
        },
        {
          "output_type": "display_data",
          "data": {
            "image/png": "[encoded data removed]",
            "text/plain": [
              "<matplotlib.figure.Figure at 0x7f14fa15d080>"
            ]
          },
          "metadata": {
            "tags": []
          }
        },
        {
          "output_type": "display_data",
          "data": {
            "image/png": "[encoded data removed]",
            "text/plain": [
              "<matplotlib.figure.Figure at 0x7f14fa100a90>"
            ]
          },
          "metadata": {
            "tags": []
          }
        },
        {
          "output_type": "display_data",
          "data": {
            "image/png": "[encoded data removed]",
            "text/plain": [
              "<matplotlib.figure.Figure at 0x7f14fa03f748>"
            ]
          },
          "metadata": {
            "tags": []
          }
        }
      ]
    },
    {
      "metadata": {
        "id": "Yw7sC_Rhgtcj",
        "colab_type": "text"
      },
      "cell_type": "markdown",
      "source": [
        "Here we compute the loss on the test set."
      ]
    },
    {
      "metadata": {
        "id": "0Xpl-CgBV9T9",
        "colab_type": "code",
        "colab": {
          "base_uri": "https://localhost:8080/",
          "height": 54
        },
        "outputId": "3cb1cf7a-9e51-462a-d091-9834dcce5802"
      },
      "cell_type": "code",
      "source": [
        "val = model.evaluate(X_test4.reshape(X_test4.shape[0],IMAGE_SIZE,IMAGE_SIZE,1), Y_test4.reshape(X_test4.shape[0],IMAGE_SIZE,IMAGE_SIZE,1))\n",
        "print('{} : {}'.format(model.metrics_names[0],eval))"
      ],
      "execution_count": 347,
      "outputs": [
        {
          "output_type": "stream",
          "text": [
            "300/300 [==============================] - 10s 33ms/step\n",
            "loss : 0.08489368508259455\n"
          ],
          "name": "stdout"
        }
      ]
    }
  ]
}